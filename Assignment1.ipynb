{
  "nbformat": 4,
  "nbformat_minor": 0,
  "metadata": {
    "colab": {
      "provenance": [],
      "authorship_tag": "ABX9TyNYJOYuKiBZH82nVrD+Uwvq",
      "include_colab_link": true
    },
    "kernelspec": {
      "name": "python3",
      "display_name": "Python 3"
    },
    "language_info": {
      "name": "python"
    }
  },
  "cells": [
    {
      "cell_type": "markdown",
      "metadata": {
        "id": "view-in-github",
        "colab_type": "text"
      },
      "source": [
        "<a href=\"https://colab.research.google.com/github/Mrudhula1/NNDL/blob/main/Assignment1.ipynb\" target=\"_parent\"><img src=\"https://colab.research.google.com/assets/colab-badge.svg\" alt=\"Open In Colab\"/></a>"
      ]
    },
    {
      "cell_type": "markdown",
      "source": [
        "Problem - 1\n"
      ],
      "metadata": {
        "id": "SdeGVuheJMvG"
      }
    },
    {
      "cell_type": "code",
      "source": [
        "m = input('type Python :')\n",
        "n = 'Python'\n",
        "if m!= n :\n",
        "  print(\"print Python\")\n",
        "else :\n",
        "  m = m.replace(\"n\",\"\")\n",
        "  m = m.replace(\"t\",\"\")\n",
        "  m = m[::-1]\n",
        "  print(m)"
      ],
      "metadata": {
        "colab": {
          "base_uri": "https://localhost:8080/"
        },
        "id": "rUpiKOp5JT2Z",
        "outputId": "c0a6db0f-e41a-4d89-d86f-3d458f9283dd"
      },
      "execution_count": 3,
      "outputs": [
        {
          "output_type": "stream",
          "name": "stdout",
          "text": [
            "type Python :Python\n",
            "ohyP\n"
          ]
        }
      ]
    },
    {
      "cell_type": "markdown",
      "source": [
        "Problem - 1b\n"
      ],
      "metadata": {
        "id": "4RzXmFKqKHyZ"
      }
    },
    {
      "cell_type": "code",
      "source": [
        "num1 = float(input('Enter First number: '))\n",
        "num2 = float(input('Enter Second number: '))\n",
        "sum = num1 + num2\n",
        "sub = num1 - num2\n",
        "div = num1 / num2\n",
        "mul = num1 * num2\n",
        "print('The sum of two numbers: ', sum)\n",
        "print('The subtraction of two numbers: ', sub)\n",
        "print('The division of two numbers: ', div)\n",
        "print('The multiplication of two numbers: ', mul)\n",
        ""
      ],
      "metadata": {
        "colab": {
          "base_uri": "https://localhost:8080/"
        },
        "id": "MoNVUBiMKLNa",
        "outputId": "84321053-eac8-40cc-f365-f8cef4d19bff"
      },
      "execution_count": 5,
      "outputs": [
        {
          "output_type": "stream",
          "name": "stdout",
          "text": [
            "Enter First number: 25\n",
            "Enter Second number: 30\n",
            "The sum of two numbers:  55.0\n",
            "The subtraction of two numbers:  -5.0\n",
            "The division of two numbers:  0.8333333333333334\n",
            "The multiplication of two numbers:  750.0\n"
          ]
        }
      ]
    },
    {
      "cell_type": "markdown",
      "source": [
        "Problem - 2\n"
      ],
      "metadata": {
        "id": "F77HS23cN4ld"
      }
    },
    {
      "cell_type": "code",
      "source": [
        "txt = input(\"enter any sentenece: \")\n",
        "txt = txt.replace(\"python\",\"pythons\")\n",
        "print(txt)"
      ],
      "metadata": {
        "colab": {
          "base_uri": "https://localhost:8080/"
        },
        "id": "2z8jkvfPN8_a",
        "outputId": "e185cf11-d6b7-4f9e-a7fb-c29cdeb60688"
      },
      "execution_count": 6,
      "outputs": [
        {
          "output_type": "stream",
          "name": "stdout",
          "text": [
            "enter any sentenece: I love python language because python is easy\n",
            "I love pythons language because pythons is easy\n"
          ]
        }
      ]
    },
    {
      "cell_type": "markdown",
      "source": [
        "Problem - 3\n"
      ],
      "metadata": {
        "id": "1-vtOXN1ObCy"
      }
    },
    {
      "cell_type": "code",
      "source": [
        "NN_class_score = input(\"enter your marks: \")\n",
        "NN_class_score = int(NN_class_score)\n",
        "if NN_class_score>=90:\n",
        "  print('A')\n",
        "elif NN_class_score>=80:\n",
        "  print('B')\n",
        "elif NN_class_score>=70:\n",
        "  print('C')\n",
        "elif NN_class_score>=60:\n",
        "  print('D')\n",
        "elif NN_class_score>=50:\n",
        "  print('E')\n",
        "else :\n",
        "  print('F')"
      ],
      "metadata": {
        "colab": {
          "base_uri": "https://localhost:8080/"
        },
        "id": "5D6G2GlROeZz",
        "outputId": "c2ccda30-2737-40d7-f0f2-521361b0cdca"
      },
      "execution_count": 7,
      "outputs": [
        {
          "output_type": "stream",
          "name": "stdout",
          "text": [
            "enter your marks: 65\n",
            "D\n"
          ]
        }
      ]
    }
  ]
}